{
 "cells": [
  {
   "cell_type": "markdown",
   "metadata": {},
   "source": [
    "Instructions\n",
    "\n",
    "Create a function that takes a number as an argument, increments the number by 1, and returns the result. \n",
    "\n",
    "Examples\n",
    "\n",
    "- addition(0) ➞ 1\n",
    "- addition(9) ➞ 10\n",
    "- addition(-3) ➞ -2\n",
    "\n",
    "Notes\n",
    "\n",
    "- Don't forget to return the result.\n",
    "- If you get stuck on a challenge, find help in the Resources tab.\n",
    "- If you're really stuck, unlock solutions in the Solutions tab."
   ]
  },
  {
   "cell_type": "code",
   "execution_count": null,
   "metadata": {},
   "outputs": [],
   "source": [
    "def addition(num):\n",
    "\treturn num + 1"
   ]
  }
 ],
 "metadata": {
  "language_info": {
   "name": "python"
  }
 },
 "nbformat": 4,
 "nbformat_minor": 2
}
