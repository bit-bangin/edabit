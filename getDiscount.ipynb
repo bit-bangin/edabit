def dis(price, discount):
	if discount <= 100:
		operand = 100 - discount
		str_dis = "." + str(operand)
		dec_dis = float(str_dis)
	return price * dec_dis
