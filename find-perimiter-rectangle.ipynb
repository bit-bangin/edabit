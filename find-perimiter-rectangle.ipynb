{
 "cells": [
  {
   "cell_type": "markdown",
   "metadata": {},
   "source": [
    "Instructions\n",
    "\n",
    "Create a function that takes `length` and `width` and finds the perimeter of a rectangle. \n",
    "\n",
    "Examples\n",
    "\n",
    "- find_perimeter(6, 7) ➞ 26\n",
    "- find_perimeter(20, 10) ➞ 60\n",
    "- find_perimeter(2, 9) ➞ 22\n",
    "\n",
    "Notes\n",
    "\n",
    "- Don't forget to return the result.\n",
    "- If you're stuck, find help in the Resources tab.\n",
    "- If you're really stuck, find solutions in the Solutions tab."
   ]
  },
  {
   "cell_type": "code",
   "execution_count": null,
   "metadata": {},
   "outputs": [],
   "source": [
    "def find_perimeter(length, width):\n",
    "\treturn 2 * (length + width)"
   ]
  }
 ],
 "metadata": {
  "language_info": {
   "name": "python"
  }
 },
 "nbformat": 4,
 "nbformat_minor": 2
}
