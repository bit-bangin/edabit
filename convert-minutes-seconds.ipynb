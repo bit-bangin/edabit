{
 "cells": [
  {
   "cell_type": "markdown",
   "metadata": {},
   "source": [
    "Instructions\n",
    "\n",
    "Write a function that takes an integer (minutes) and converts it to seconds. \n",
    "\n",
    "Examples\n",
    "\n",
    "- convert(5) ➞ 300\n",
    "- convert(3) ➞ 180\n",
    "- convert(2) ➞ 120\n",
    "\n",
    "Notes \n",
    "\n",
    "- Don't forget to return the result.\n",
    "- If you get stuck on a challenge, find help in the Resources tab.\n",
    "- If you're really stuck, unlock solutions in the Solutions tab."
   ]
  },
  {
   "cell_type": "code",
   "execution_count": null,
   "metadata": {},
   "outputs": [],
   "source": [
    "def convert(minutes):\n",
    "\treturn minutes * 60"
   ]
  }
 ],
 "metadata": {
  "language_info": {
   "name": "python"
  }
 },
 "nbformat": 4,
 "nbformat_minor": 2
}
