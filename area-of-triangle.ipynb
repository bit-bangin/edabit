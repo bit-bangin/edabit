{
 "cells": [
  {
   "cell_type": "markdown",
   "metadata": {},
   "source": [
    "Instructions\n",
    "\n",
    "Write a function that takes the base and height of a tirangle and returns it's area. \n",
    "\n",
    "Examples\n",
    "\n",
    "- tri_area(3, 2) ➞ 3\n",
    "- tri_area(7, 4) ➞ 14\n",
    "- tri_area(10, 10) ➞ 50\n",
    "\n",
    "Notes \n",
    "\n",
    "- The area of a triangle is: (base * height) / 2\n",
    "- Don't forget to return the result.\n",
    "- If you get stuck on a challenge, find help in the Resources tab.\n",
    "- If you're really stuck, unlock solutions in the Solutions tab."
   ]
  },
  {
   "cell_type": "code",
   "execution_count": null,
   "metadata": {},
   "outputs": [],
   "source": [
    "def tri_area(base, height):\n",
    "\treturn (base * height) / 2"
   ]
  }
 ],
 "metadata": {
  "language_info": {
   "name": "python"
  }
 },
 "nbformat": 4,
 "nbformat_minor": 2
}
